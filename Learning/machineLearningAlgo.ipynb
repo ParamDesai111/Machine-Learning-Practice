{
 "cells": [
  {
   "cell_type": "markdown",
   "metadata": {},
   "source": [
    "# Common Machine Learning Algorithms\n",
    "\n",
    "# Supervised Learning\n",
    "\n",
    "## Linear Regression Model\n",
    "- the algo tries to find the straight line between a dependent and independent variable that does the best job of modeling this rs\n",
    "- regression problems\n",
    "\n",
    "## Logistic Regression\n",
    "- Logistic Regression models the relationship between the independent variables and the dependent variable using sigmoid curve  (s shaped) Log Odds function\n",
    "- used for binary problems like will or will not\n",
    "\n",
    "## Decision Tree\n",
    "- Decision tree represents the relationship between the values of one or more independent variable and those of a dependent variable using an inverted tree like structure made of decision nodes and leafs\n",
    "- regression and classification\n",
    "- reccomendations of loan decisions\n",
    "\n",
    "# Unsupervised Learning\n",
    "\n",
    "## K Means Clustering\n",
    "- The algorithms groups items into one of K clusters based on similarity\n",
    "- The objective is to create cluster are as similar as possible but as different from other clusters\n",
    "\n",
    "## Association Rules\n",
    "- If then statements that describe co-occurance of items within data"
   ]
  }
 ],
 "metadata": {
  "language_info": {
   "name": "python"
  }
 },
 "nbformat": 4,
 "nbformat_minor": 2
}
