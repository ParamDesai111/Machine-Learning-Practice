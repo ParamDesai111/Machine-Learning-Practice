{
 "cells": [
  {
   "cell_type": "markdown",
   "metadata": {},
   "source": [
    "# Data Exploration\n",
    "- Understanding data and exploring\n",
    "- type of data\n",
    "- missing or inconsisting\n",
    "\n",
    "### Instance\n",
    "- Ech indiviual independed example of a target concept\n",
    "- row of data\n",
    "- data set has several instances\n",
    "- record or observations\n",
    "### Feature\n",
    "- Property or characteristics of an instance\n",
    "- a variable in the instance\n",
    "- the columns\n",
    "\n",
    "Comparasion visualization shows the difference between two or more items\n",
    "\n",
    "Relationship visualization shows the correlation between two or more variables\n",
    "\n",
    "Distribution visualization shows the statistical distribution of the values of a feature\n"
   ]
  }
 ],
 "metadata": {
  "language_info": {
   "name": "python"
  }
 },
 "nbformat": 4,
 "nbformat_minor": 2
}
