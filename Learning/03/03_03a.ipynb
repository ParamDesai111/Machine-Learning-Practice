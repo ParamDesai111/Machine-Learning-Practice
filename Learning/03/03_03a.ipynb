{
 "cells": [
  {
   "cell_type": "markdown",
   "metadata": {},
   "source": [
    "# Data Exploration\n",
    "- Understanding data and exploring\n",
    "- type of data\n",
    "- missing or inconsisting\n",
    "\n",
    "### Instance\n",
    "- Ech indiviual independed example of a target concept\n",
    "- row of data\n",
    "- data set has several instances\n",
    "- record or observations\n",
    "### Feature\n",
    "- Property or characteristics of an instance\n",
    "- a variable in the instance\n",
    "- the columns"
   ]
  }
 ],
 "metadata": {
  "language_info": {
   "name": "python"
  }
 },
 "nbformat": 4,
 "nbformat_minor": 2
}
