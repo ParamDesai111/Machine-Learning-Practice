{
 "cells": [
  {
   "cell_type": "code",
   "execution_count": 1,
   "metadata": {},
   "outputs": [],
   "source": [
    "# Machine Learning Introduction"
   ]
  },
  {
   "cell_type": "markdown",
   "metadata": {},
   "source": [
    "# Machine Learning Introduction"
   ]
  },
  {
   "cell_type": "markdown",
   "metadata": {},
   "source": [
    "What is Machine Learning\n",
    "- Machine's can run tasks again and again\n",
    "- give input of data and provide the task and then there is output from the computer\n",
    "- for machine learning we provide the input and the output we need for the input\n",
    "    - can the computer find out the task after giving the output and the input\n",
    "## Supervised Learning\n",
    "- Training a model going forward the input data can be provided where we get the right output\n",
    "- solving problems \n",
    "- Supervised learning is the process of training a predictive model\n",
    "- Predictive models are used to assign labels to unlabeled data based on patterns learned from previously labeled historical data\n",
    "input is independent variable and the depended variables are output\n",
    "## Unsupervised Learning\n",
    "- the input then evaluates the input data and then takes the data and see if there is any relationships or any patters\n",
    "- can be used for my project movie recc\n",
    "- Segmentation of all the groups from the data given\n",
    "## Rienforcement Learning\n",
    "- Two things the Agent and the Enviornment\n",
    "- best way to accomplish task from the action to the feedback\n",
    "- then the agent learns the tasks from the enviornment and learns how to solve the problem\n",
    "- process of learning through feedback\n",
    "\n",
    "### 6 Steps of Machine Learning\n",
    "- Data Collection\n",
    "    S:Label data with unknown patterns\n",
    "    UN:Train data\n",
    "    R:Data that reward\n",
    "- Data Explorations\n",
    "- Data Preparation\n",
    "    Suitable for the ml we need to do (do any changes if needed)\n",
    "    GOOD DATA!\n",
    "- Modeling\n",
    "    right machine learning approach to the data\n",
    "- Evaluation\n",
    "    How well the machine learning approach worked\n",
    "- Actionable Insight\n",
    "    Identify what to do based on the results of what to do with it"
   ]
  }
 ],
 "metadata": {
  "kernelspec": {
   "display_name": "base",
   "language": "python",
   "name": "python3"
  },
  "language_info": {
   "codemirror_mode": {
    "name": "ipython",
    "version": 3
   },
   "file_extension": ".py",
   "mimetype": "text/x-python",
   "name": "python",
   "nbconvert_exporter": "python",
   "pygments_lexer": "ipython3",
   "version": "3.11.7"
  }
 },
 "nbformat": 4,
 "nbformat_minor": 2
}
